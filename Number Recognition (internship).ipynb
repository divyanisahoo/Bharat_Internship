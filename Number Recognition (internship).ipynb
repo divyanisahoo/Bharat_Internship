{
 "cells": [
  {
   "cell_type": "markdown",
   "id": "20cd7034",
   "metadata": {},
   "source": [
    "# MNIST Classification"
   ]
  },
  {
   "cell_type": "code",
   "execution_count": 2,
   "id": "21106234",
   "metadata": {},
   "outputs": [],
   "source": [
    "# Import necessary libraries\n",
    "from keras.models import Sequential\n",
    "from keras.datasets import mnist\n",
    "from keras.utils import to_categorical\n",
    "from keras.layers import Dense\n",
    "import matplotlib.pyplot as plt\n",
    "import numpy as np\n",
    "from sklearn.metrics import confusion_matrix, classification_report"
   ]
  },
  {
   "cell_type": "code",
   "execution_count": 3,
   "id": "94033c09",
   "metadata": {},
   "outputs": [
    {
     "name": "stdout",
     "output_type": "stream",
     "text": [
      "Downloading data from https://storage.googleapis.com/tensorflow/tf-keras-datasets/mnist.npz\n",
      "11490434/11490434 [==============================] - 3s 0us/step\n"
     ]
    }
   ],
   "source": [
    "dataset = mnist.load_data('mnist.db')"
   ]
  },
  {
   "cell_type": "code",
   "execution_count": 4,
   "id": "72cc3857",
   "metadata": {},
   "outputs": [],
   "source": [
    "train,test = dataset"
   ]
  },
  {
   "cell_type": "code",
   "execution_count": 5,
   "id": "a2bd3a9d",
   "metadata": {},
   "outputs": [
    {
     "data": {
      "text/plain": [
       "2"
      ]
     },
     "execution_count": 5,
     "metadata": {},
     "output_type": "execute_result"
    }
   ],
   "source": [
    "len(train)"
   ]
  },
  {
   "cell_type": "code",
   "execution_count": 6,
   "id": "ed51cceb",
   "metadata": {},
   "outputs": [],
   "source": [
    "X_train, y_train = train"
   ]
  },
  {
   "cell_type": "code",
   "execution_count": 7,
   "id": "5a91c552",
   "metadata": {},
   "outputs": [],
   "source": [
    "X_test, y_test = test"
   ]
  },
  {
   "cell_type": "code",
   "execution_count": 8,
   "id": "d5a22e7a",
   "metadata": {},
   "outputs": [
    {
     "data": {
      "text/plain": [
       "60000"
      ]
     },
     "execution_count": 8,
     "metadata": {},
     "output_type": "execute_result"
    }
   ],
   "source": [
    "len(X_train)"
   ]
  },
  {
   "cell_type": "code",
   "execution_count": 9,
   "id": "11e18e43",
   "metadata": {},
   "outputs": [
    {
     "data": {
      "text/plain": [
       "10000"
      ]
     },
     "execution_count": 9,
     "metadata": {},
     "output_type": "execute_result"
    }
   ],
   "source": [
    "len(X_test)"
   ]
  },
  {
   "cell_type": "code",
   "execution_count": 10,
   "id": "4a1d5060",
   "metadata": {},
   "outputs": [
    {
     "data": {
      "text/plain": [
       "(28, 28)"
      ]
     },
     "execution_count": 10,
     "metadata": {},
     "output_type": "execute_result"
    }
   ],
   "source": [
    "X_train[0].shape"
   ]
  },
  {
   "cell_type": "code",
   "execution_count": 11,
   "id": "75a0efff",
   "metadata": {},
   "outputs": [
    {
     "data": {
      "text/plain": [
       "2"
      ]
     },
     "execution_count": 11,
     "metadata": {},
     "output_type": "execute_result"
    }
   ],
   "source": [
    "X_train[0].ndim"
   ]
  },
  {
   "cell_type": "code",
   "execution_count": 12,
   "id": "4f217797",
   "metadata": {},
   "outputs": [],
   "source": [
    "img = X_train[1]"
   ]
  },
  {
   "cell_type": "code",
   "execution_count": 13,
   "id": "36ea6dc4",
   "metadata": {},
   "outputs": [],
   "source": [
    "X_train = X_train.reshape(-1,28*28)\n",
    "#X_train = X_train.reshape(-1, 1, 28*28)"
   ]
  },
  {
   "cell_type": "code",
   "execution_count": 14,
   "id": "d8c992e1",
   "metadata": {},
   "outputs": [
    {
     "data": {
      "text/plain": [
       "(60000, 784)"
      ]
     },
     "execution_count": 14,
     "metadata": {},
     "output_type": "execute_result"
    }
   ],
   "source": [
    "X_train.shape"
   ]
  },
  {
   "cell_type": "code",
   "execution_count": 15,
   "id": "55db4f05",
   "metadata": {},
   "outputs": [],
   "source": [
    "X_test = X_test.reshape(-1, 28*28)"
   ]
  },
  {
   "cell_type": "code",
   "execution_count": 16,
   "id": "34b068a7",
   "metadata": {},
   "outputs": [
    {
     "data": {
      "text/plain": [
       "(10000, 784)"
      ]
     },
     "execution_count": 16,
     "metadata": {},
     "output_type": "execute_result"
    }
   ],
   "source": [
    "X_test.shape"
   ]
  },
  {
   "cell_type": "code",
   "execution_count": 17,
   "id": "f61a85cf",
   "metadata": {},
   "outputs": [
    {
     "data": {
      "text/plain": [
       "array([5, 0, 4, ..., 5, 6, 8], dtype=uint8)"
      ]
     },
     "execution_count": 17,
     "metadata": {},
     "output_type": "execute_result"
    }
   ],
   "source": [
    "y_train"
   ]
  },
  {
   "cell_type": "code",
   "execution_count": 18,
   "id": "a2d84177",
   "metadata": {},
   "outputs": [],
   "source": [
    "y_train = to_categorical(y_train)"
   ]
  },
  {
   "cell_type": "code",
   "execution_count": 19,
   "id": "d2ed785c",
   "metadata": {},
   "outputs": [
    {
     "data": {
      "text/plain": [
       "array([[0., 0., 0., ..., 0., 0., 0.],\n",
       "       [1., 0., 0., ..., 0., 0., 0.],\n",
       "       [0., 0., 0., ..., 0., 0., 0.],\n",
       "       ...,\n",
       "       [0., 0., 0., ..., 0., 0., 0.],\n",
       "       [0., 0., 0., ..., 0., 0., 0.],\n",
       "       [0., 0., 0., ..., 0., 1., 0.]], dtype=float32)"
      ]
     },
     "execution_count": 19,
     "metadata": {},
     "output_type": "execute_result"
    }
   ],
   "source": [
    "y_train"
   ]
  },
  {
   "cell_type": "code",
   "execution_count": 20,
   "id": "29049064",
   "metadata": {},
   "outputs": [],
   "source": [
    "model=Sequential()"
   ]
  },
  {
   "cell_type": "code",
   "execution_count": 21,
   "id": "e6917cfa",
   "metadata": {},
   "outputs": [],
   "source": [
    "model.add( \n",
    "    Dense(units = 512 , input_shape = (784,) , activation = 'relu' )\n",
    ")\n",
    "model.add( \n",
    "    Dense(units = 256 , activation = 'relu' )\n",
    ")\n",
    "model.add( \n",
    "    Dense(units = 128 , activation = 'relu' )\n",
    ")\n",
    "model.add( \n",
    "    Dense(units = 64 , activation = 'relu' )\n",
    ")\n",
    "model.add( \n",
    "    Dense(units = 10 , activation = 'softmax' )\n",
    ")"
   ]
  },
  {
   "cell_type": "code",
   "execution_count": 22,
   "id": "a3d3c655",
   "metadata": {},
   "outputs": [
    {
     "name": "stdout",
     "output_type": "stream",
     "text": [
      "Model: \"sequential\"\n",
      "_________________________________________________________________\n",
      " Layer (type)                Output Shape              Param #   \n",
      "=================================================================\n",
      " dense (Dense)               (None, 512)               401920    \n",
      "                                                                 \n",
      " dense_1 (Dense)             (None, 256)               131328    \n",
      "                                                                 \n",
      " dense_2 (Dense)             (None, 128)               32896     \n",
      "                                                                 \n",
      " dense_3 (Dense)             (None, 64)                8256      \n",
      "                                                                 \n",
      " dense_4 (Dense)             (None, 10)                650       \n",
      "                                                                 \n",
      "=================================================================\n",
      "Total params: 575050 (2.19 MB)\n",
      "Trainable params: 575050 (2.19 MB)\n",
      "Non-trainable params: 0 (0.00 Byte)\n",
      "_________________________________________________________________\n"
     ]
    }
   ],
   "source": [
    "model.summary()"
   ]
  },
  {
   "cell_type": "code",
   "execution_count": 23,
   "id": "f323d533",
   "metadata": {},
   "outputs": [],
   "source": [
    "model.compile(\n",
    "    optimizer='adam',\n",
    "    \n",
    "    loss='categorical_crossentropy',\n",
    "    \n",
    "    metrics=['accuracy']\n",
    ")"
   ]
  },
  {
   "cell_type": "code",
   "execution_count": 24,
   "id": "9f3c3897",
   "metadata": {},
   "outputs": [
    {
     "name": "stdout",
     "output_type": "stream",
     "text": [
      "Epoch 1/10\n",
      "1500/1500 [==============================] - 25s 16ms/step - loss: 0.7635 - accuracy: 0.8898 - val_loss: 0.2503 - val_accuracy: 0.9295\n",
      "Epoch 2/10\n",
      "1500/1500 [==============================] - 25s 17ms/step - loss: 0.1865 - accuracy: 0.9469 - val_loss: 0.2186 - val_accuracy: 0.9458\n",
      "Epoch 3/10\n",
      "1500/1500 [==============================] - 19s 13ms/step - loss: 0.1452 - accuracy: 0.9580 - val_loss: 0.2110 - val_accuracy: 0.9469\n",
      "Epoch 4/10\n",
      "1500/1500 [==============================] - 19s 13ms/step - loss: 0.1283 - accuracy: 0.9638 - val_loss: 0.1546 - val_accuracy: 0.9599\n",
      "Epoch 5/10\n",
      "1500/1500 [==============================] - 23s 16ms/step - loss: 0.1115 - accuracy: 0.9680 - val_loss: 0.1291 - val_accuracy: 0.9643\n",
      "Epoch 6/10\n",
      "1500/1500 [==============================] - 22s 15ms/step - loss: 0.0971 - accuracy: 0.9730 - val_loss: 0.1292 - val_accuracy: 0.9648\n",
      "Epoch 7/10\n",
      "1500/1500 [==============================] - 18s 12ms/step - loss: 0.0814 - accuracy: 0.9770 - val_loss: 0.1616 - val_accuracy: 0.9632\n",
      "Epoch 8/10\n",
      "1500/1500 [==============================] - 18s 12ms/step - loss: 0.0765 - accuracy: 0.9792 - val_loss: 0.1377 - val_accuracy: 0.9654\n",
      "Epoch 9/10\n",
      "1500/1500 [==============================] - 18s 12ms/step - loss: 0.0671 - accuracy: 0.9821 - val_loss: 0.1418 - val_accuracy: 0.9672\n",
      "Epoch 10/10\n",
      "1500/1500 [==============================] - 27s 18ms/step - loss: 0.0616 - accuracy: 0.9831 - val_loss: 0.1291 - val_accuracy: 0.9728\n"
     ]
    }
   ],
   "source": [
    "# Train the model\n",
    "history = model.fit(X_train, y_train, epochs=10, validation_split=0.2)"
   ]
  },
  {
   "cell_type": "code",
   "execution_count": 25,
   "id": "82b56457",
   "metadata": {},
   "outputs": [
    {
     "name": "stdout",
     "output_type": "stream",
     "text": [
      "313/313 [==============================] - 1s 3ms/step - loss: 0.1120 - accuracy: 0.9745\n",
      "Test Accuracy: 97.45%\n"
     ]
    }
   ],
   "source": [
    "# Evaluate the model on the test set\n",
    "test_loss, test_accuracy = model.evaluate(X_test, to_categorical(y_test))\n",
    "print(f\"Test Accuracy: {test_accuracy * 100:.2f}%\")"
   ]
  },
  {
   "cell_type": "code",
   "execution_count": 26,
   "id": "f6f70817",
   "metadata": {},
   "outputs": [
    {
     "data": {
      "image/png": "[encoded data removed]",
      "text/plain": [
       "<Figure size 1200x400 with 2 Axes>"
      ]
     },
     "metadata": {},
     "output_type": "display_data"
    }
   ],
   "source": [
    "# Plot training history (loss and accuracy)\n",
    "plt.figure(figsize=(12, 4))\n",
    "plt.subplot(1, 2, 1)\n",
    "plt.plot(history.history['loss'], label='Training Loss')\n",
    "plt.plot(history.history['val_loss'], label='Validation Loss')\n",
    "plt.xlabel('Epoch')\n",
    "plt.ylabel('Loss')\n",
    "plt.legend()\n",
    "plt.title('Training and Validation Loss')\n",
    "\n",
    "plt.subplot(1, 2, 2)\n",
    "plt.plot(history.history['accuracy'], label='Training Accuracy')\n",
    "plt.plot(history.history['val_accuracy'], label='Validation Accuracy')\n",
    "plt.xlabel('Epoch')\n",
    "plt.ylabel('Accuracy')\n",
    "plt.legend()\n",
    "plt.title('Training and Validation Accuracy')\n",
    "\n",
    "plt.show()"
   ]
  },
  {
   "cell_type": "code",
   "execution_count": 27,
   "id": "f2a0fe84",
   "metadata": {},
   "outputs": [],
   "source": [
    "# Predict with the Model:\n",
    "# Select multiple sample images from the test set (e.g., the first 10 images)\n",
    "sample_images = X_test"
   ]
  },
  {
   "cell_type": "code",
   "execution_count": 28,
   "id": "2fd971b3",
   "metadata": {},
   "outputs": [
    {
     "name": "stdout",
     "output_type": "stream",
     "text": [
      "313/313 [==============================] - 1s 3ms/step\n"
     ]
    }
   ],
   "source": [
    "# Use the trained model to make predictions on the selected images\n",
    "predictions = model.predict(sample_images)"
   ]
  },
  {
   "cell_type": "code",
   "execution_count": 29,
   "id": "f17c1b0b",
   "metadata": {},
   "outputs": [
    {
     "name": "stdout",
     "output_type": "stream",
     "text": [
      "[[7.15879667e-13 3.78247889e-13 9.99926442e-07 ... 9.99999046e-01\n",
      "  1.82711363e-13 2.35996574e-12]\n",
      " [4.44540424e-15 2.34702686e-15 1.00000000e+00 ... 1.09798469e-13\n",
      "  1.11088272e-17 4.23844964e-17]\n",
      " [2.50862777e-24 9.99997854e-01 4.73008681e-11 ... 3.39766579e-08\n",
      "  2.16839112e-06 5.10987953e-11]\n",
      " ...\n",
      " [4.30629505e-25 3.58189918e-17 1.47413015e-17 ... 4.09342265e-12\n",
      "  4.21179351e-16 6.03633046e-11]\n",
      " [5.23456534e-17 1.66717440e-32 0.00000000e+00 ... 5.98133120e-22\n",
      "  4.39639249e-17 3.76386295e-25]\n",
      " [1.57846112e-17 0.00000000e+00 0.00000000e+00 ... 4.40576847e-36\n",
      "  1.00209367e-28 1.10366805e-25]]\n"
     ]
    }
   ],
   "source": [
    "# Print the predictions\n",
    "print(predictions)"
   ]
  },
  {
   "cell_type": "code",
   "execution_count": 30,
   "id": "fa34756f",
   "metadata": {},
   "outputs": [],
   "source": [
    "# Convert predictions to class labels\n",
    "predicted_labels = np.argmax(predictions, axis=1)"
   ]
  },
  {
   "cell_type": "code",
   "execution_count": 31,
   "id": "0c9c2b18",
   "metadata": {},
   "outputs": [
    {
     "name": "stdout",
     "output_type": "stream",
     "text": [
      "Predicted Labels: [7 2 1 ... 4 5 6]\n"
     ]
    }
   ],
   "source": [
    "# Print the predicted labels\n",
    "print(\"Predicted Labels:\", predicted_labels)"
   ]
  },
  {
   "cell_type": "code",
   "execution_count": 32,
   "id": "a1332f37",
   "metadata": {},
   "outputs": [
    {
     "name": "stdout",
     "output_type": "stream",
     "text": [
      "313/313 [==============================] - 1s 3ms/step\n",
      "Confusion Matrix:\n",
      " [[ 970    0    2    0    1    1    1    1    2    2]\n",
      " [   0 1122    0    6    0    1    5    0    1    0]\n",
      " [   9    1 1003    7    4    0    1    3    4    0]\n",
      " [   1    0    6  971    0   26    0    3    0    3]\n",
      " [   1    1    2    0  964    1    5    1    1    6]\n",
      " [   4    0    0    1    0  877    6    1    1    2]\n",
      " [  13    3    1    0    5    5  931    0    0    0]\n",
      " [   0    2   13    2    4    1    0  999    3    4]\n",
      " [   6    1    4   10    3    8    2    4  932    4]\n",
      " [   3    2    1    3   12    6    1    4    1  976]]\n",
      "Classification Report:\n",
      "               precision    recall  f1-score   support\n",
      "\n",
      "           0       0.96      0.99      0.98       980\n",
      "           1       0.99      0.99      0.99      1135\n",
      "           2       0.97      0.97      0.97      1032\n",
      "           3       0.97      0.96      0.97      1010\n",
      "           4       0.97      0.98      0.98       982\n",
      "           5       0.95      0.98      0.96       892\n",
      "           6       0.98      0.97      0.97       958\n",
      "           7       0.98      0.97      0.98      1028\n",
      "           8       0.99      0.96      0.97       974\n",
      "           9       0.98      0.97      0.97      1009\n",
      "\n",
      "    accuracy                           0.97     10000\n",
      "   macro avg       0.97      0.97      0.97     10000\n",
      "weighted avg       0.97      0.97      0.97     10000\n",
      "\n"
     ]
    }
   ],
   "source": [
    "# Generate a confusion matrix and classification report\n",
    "y_true = y_test\n",
    "y_pred = model.predict(X_test)\n",
    "y_pred_labels = np.argmax(y_pred, axis=1)\n",
    "confusion = confusion_matrix(y_true, y_pred_labels)\n",
    "classification_report_str = classification_report(y_true, y_pred_labels)\n",
    "\n",
    "print(\"Confusion Matrix:\\n\", confusion)\n",
    "print(\"Classification Report:\\n\", classification_report_str)"
   ]
  },
  {
   "cell_type": "code",
   "execution_count": 33,
   "id": "0c7d4cd4",
   "metadata": {},
   "outputs": [
    {
     "name": "stdout",
     "output_type": "stream",
     "text": [
      "313/313 [==============================] - 1s 3ms/step\n"
     ]
    },
    {
     "data": {
      "image/png": "[encoded data removed]",
      "text/plain": [
       "<Figure size 1200x600 with 15 Axes>"
      ]
     },
     "metadata": {},
     "output_type": "display_data"
    }
   ],
   "source": [
    "# Use the trained model to make predictions on the test set\n",
    "predictions = model.predict(X_test)\n",
    "\n",
    "# Convert predictions to class labels\n",
    "predicted_labels = np.argmax(predictions, axis=1)\n",
    "\n",
    "# Select some random test samples (e.g., the first 15)\n",
    "num_samples_to_display = 15\n",
    "sample_indices = np.random.choice(len(X_test), num_samples_to_display, replace=False)\n",
    "\n",
    "# Create a figure to display the comparison\n",
    "plt.figure(figsize=(12, 6))\n",
    "\n",
    "for i, sample_index in enumerate(sample_indices):\n",
    "    plt.subplot(3, 5, i + 1)\n",
    "    plt.imshow(X_test[sample_index].reshape(28, 28), cmap='gray')\n",
    "    plt.title(f\"Actual: {y_test[sample_index]}\\nPredicted: {predicted_labels[sample_index]}\")\n",
    "    plt.axis('off')\n",
    "\n",
    "plt.tight_layout()\n",
    "plt.show()"
   ]
  },
  {
   "cell_type": "code",
   "execution_count": null,
   "id": "169702a2",
   "metadata": {},
   "outputs": [],
   "source": []
  }
 ],
 "metadata": {
  "kernelspec": {
   "display_name": "Python 3 (ipykernel)",
   "language": "python",
   "name": "python3"
  },
  "language_info": {
   "codemirror_mode": {
    "name": "ipython",
    "version": 3
   },
   "file_extension": ".py",
   "mimetype": "text/x-python",
   "name": "python",
   "nbconvert_exporter": "python",
   "pygments_lexer": "ipython3",
   "version": "3.9.13"
  }
 },
 "nbformat": 4,
 "nbformat_minor": 5
}
